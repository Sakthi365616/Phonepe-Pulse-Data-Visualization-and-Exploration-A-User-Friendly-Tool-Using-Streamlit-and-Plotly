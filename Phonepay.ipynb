{
 "cells": [
  {
   "cell_type": "code",
   "execution_count": 11,
   "id": "64164757",
   "metadata": {},
   "outputs": [],
   "source": [
    "import pandas as pd\n",
    "import json\n",
    "import os"
   ]
  },
  {
   "cell_type": "markdown",
   "id": "df7dd794",
   "metadata": {},
   "source": [
    "# To get the aggregation transaction details and saving into a CSV"
   ]
  },
  {
   "cell_type": "code",
   "execution_count": 12,
   "id": "428ed77c",
   "metadata": {},
   "outputs": [],
   "source": [
    "agg_col={'State':[],'Year':[],'Quarter':[],'Transaction_type':[],'Transaction_count':[],'Transaction_amount':[]}\n",
    "path=\"C:/Users/shakt/OneDrive/Desktop/pulse/data/aggregated/transaction/country/india/state\"\n",
    "agg_content=os.listdir(path)\n",
    "\n",
    "for i in agg_content:\n",
    "    state_i=os.path.join(path,i)\n",
    "    for j in os.listdir(state_i):\n",
    "        year_j=os.path.join(state_i,j)\n",
    "        for k in os.listdir(year_j):\n",
    "            quat_k=os.path.join(year_j,k)\n",
    "            with open(quat_k) as f:\n",
    "                data=json.load(f)\n",
    "                for L in data['data']['transactionData']:\n",
    "                   Name=L['name']\n",
    "                   Count=L['paymentInstruments'][0]['count']\n",
    "                   Amount=L['paymentInstruments'][0]['amount']\n",
    "                   agg_col['State'].append(i)\n",
    "                   agg_col['Year'].append(j)\n",
    "                   agg_col['Quarter'].append(int(k.strip('.json')))\n",
    "                   agg_col['Transaction_type'].append(Name)\n",
    "                   agg_col['Transaction_count'].append(Count)\n",
    "                   agg_col['Transaction_amount'].append(Amount)\n",
    "                \n",
    "                    \n",
    "agg_dataframe=pd.DataFrame(agg_col)       \n",
    "        "
   ]
  },
  {
   "cell_type": "code",
   "execution_count": 47,
   "id": "1776e5c5",
   "metadata": {},
   "outputs": [],
   "source": [
    "agg_dataframe.to_csv('agg_dataframe.csv',index=False)"
   ]
  },
  {
   "cell_type": "markdown",
   "id": "2ff5d7cf",
   "metadata": {},
   "source": [
    "# To get the aggregation users details and saving into a CSV\n"
   ]
  },
  {
   "cell_type": "code",
   "execution_count": 14,
   "id": "ddf94e6f",
   "metadata": {},
   "outputs": [],
   "source": [
    "agg_col={'State':[],'Year':[],'Quarter':[],'Device_Brands':[],'Counts':[],'Percentage':[]}\n",
    "path=\"C:/Users/shakt/OneDrive/Desktop/pulse/data/aggregated/user/country/india/state\"\n",
    "agg_user=os.listdir(path)\n",
    "\n",
    "for i in agg_user:\n",
    "    state_i=os.path.join(path,i)\n",
    "    for j in os.listdir(state_i):\n",
    "        year_j=os.path.join(state_i,j)\n",
    "        for k in os.listdir(year_j):\n",
    "            quat_k=os.path.join(year_j,k)\n",
    "            with open(quat_k) as f:\n",
    "                data=json.load(f)\n",
    "                try:\n",
    "                    for L in data['data']['usersByDevice']:\n",
    "                       Brand=L['brand']\n",
    "                       Counts=L['count']\n",
    "                       Percentage=L['percentage']\n",
    "                       agg_col['State'].append(i)\n",
    "                       agg_col['Year'].append(j)\n",
    "                       agg_col['Quarter'].append(int(k.strip('.json')))\n",
    "                       agg_col['Device_Brands'].append(Brand)\n",
    "                       agg_col['Counts'].append(Counts)\n",
    "                       agg_col['Percentage'].append(Percentage)\n",
    "                except:\n",
    "                    pass\n",
    "                \n",
    "                    \n",
    "agg_user_dataframe=pd.DataFrame(agg_col)   "
   ]
  },
  {
   "cell_type": "code",
   "execution_count": 58,
   "id": "4d7da927",
   "metadata": {},
   "outputs": [],
   "source": [
    "agg_user_dataframe.to_csv('agg_user_dataframe.csv',index=False)"
   ]
  },
  {
   "cell_type": "markdown",
   "id": "f8494534",
   "metadata": {},
   "source": [
    "# To get the map transaction details and saving into a CSV"
   ]
  },
  {
   "cell_type": "code",
   "execution_count": 20,
   "id": "838a01f6",
   "metadata": {},
   "outputs": [],
   "source": [
    "map_trans={'State':[],'Year':[],'Quarter':[],'District':[],'Counts':[],'Amount':[]}\n",
    "path=\"C:/Users/shakt/OneDrive/Desktop/pulse/data/map/transaction/hover/country/india/state\"\n",
    "agg_user=os.listdir(path)\n",
    "\n",
    "for i in agg_user:\n",
    "    state_i=os.path.join(path,i)\n",
    "    for j in os.listdir(state_i):\n",
    "        year_j=os.path.join(state_i,j)\n",
    "        for k in os.listdir(year_j):\n",
    "            quat_k=os.path.join(year_j,k)\n",
    "            with open(quat_k) as f:\n",
    "                data=json.load(f)\n",
    "                try:\n",
    "                    for L in data['data']['hoverDataList']:\n",
    "                       Name=L['name']\n",
    "                       Counts=L['metric'][0]['count'] # it is in list format in json file so calling key as 'metric' and caaling index as [0] as it is single list and caaling the key  to srore the value of it in list\n",
    "                       Amount=L['metric'][0]['amount']\n",
    "                       map_trans['State'].append(i)\n",
    "                       map_trans['Year'].append(j)\n",
    "                       map_trans['Quarter'].append(int(k.strip('.json')))\n",
    "                       map_trans['District'].append(Name)\n",
    "                       map_trans['Counts'].append(Counts)\n",
    "                       map_trans['Amount'].append(Amount)\n",
    "                except:\n",
    "                    pass\n",
    "                \n",
    "                    \n",
    "map_trans_dataframe=pd.DataFrame(map_trans)"
   ]
  },
  {
   "cell_type": "code",
   "execution_count": 69,
   "id": "05a8ee91",
   "metadata": {},
   "outputs": [],
   "source": [
    "map_trans_dataframe.to_csv('map_trans_dataframe.csv',index=False)"
   ]
  },
  {
   "cell_type": "markdown",
   "id": "477c467e",
   "metadata": {},
   "source": [
    "# To get the map users details and saving into a CSV"
   ]
  },
  {
   "cell_type": "code",
   "execution_count": 24,
   "id": "b13af060",
   "metadata": {},
   "outputs": [],
   "source": [
    "map_user={'State':[],'Year':[],'Quarter':[],'District':[],'RegisteredUsers':[]}\n",
    "path=\"C:/Users/shakt/OneDrive/Desktop/pulse/data/map/user/hover/country/india/state\"\n",
    "agg_user=os.listdir(path)\n",
    "\n",
    "\n",
    "for i in agg_user:\n",
    "    state_i = os.path.join(path, i)\n",
    "    for j in os.listdir(state_i):\n",
    "        year_j = os.path.join(state_i, j)\n",
    "        for k in os.listdir(year_j):\n",
    "            quat_k = os.path.join(year_j, k)\n",
    "            with open(quat_k) as f:\n",
    "                data = json.load(f)\n",
    "                try:\n",
    "                    for L in data['data']['hoverData'].items(): # items() used to iterate key value in dict format df\n",
    "                        Name = L[0] # it is in dict format so to get the key  stored used this line\n",
    "                        Counts = L[1]['registeredUsers']# it is in dict format so to get the  value with particular category stored used this line\n",
    "                        map_user['State'].append(i)\n",
    "                        map_user['Year'].append(j)\n",
    "                        map_user['Quarter'].append(int(k.strip('.json')))\n",
    "                        map_user['District'].append(Name)\n",
    "                        map_user['RegisteredUsers'].append(Counts)\n",
    "                except:\n",
    "                    pass\n",
    "                    \n",
    "map_user_dataframe = pd.DataFrame(map_user)\n"
   ]
  },
  {
   "cell_type": "code",
   "execution_count": 94,
   "id": "5a3ed3ea",
   "metadata": {},
   "outputs": [],
   "source": [
    "map_user_dataframe.to_csv('map_user_dataframe.csv',index=False)"
   ]
  },
  {
   "cell_type": "markdown",
   "id": "e997e7bf",
   "metadata": {},
   "source": [
    "# To get the top transaction details and saving into a CSV"
   ]
  },
  {
   "cell_type": "code",
   "execution_count": 27,
   "id": "3b436652",
   "metadata": {},
   "outputs": [],
   "source": [
    "top_trans={'State':[],'Year':[],'Quarter':[],'Pincode':[],'Count':[],'Amount':[]}\n",
    "path=\"C:/Users/shakt/OneDrive/Desktop/pulse/data/top/transaction/country/india/state\"\n",
    "agg_user=os.listdir(path)\n",
    "\n",
    "\n",
    "for i in agg_user:\n",
    "    state_i = os.path.join(path, i)\n",
    "    for j in os.listdir(state_i):\n",
    "        year_j = os.path.join(state_i, j)\n",
    "        for k in os.listdir(year_j):\n",
    "            quat_k = os.path.join(year_j, k)\n",
    "            with open(quat_k) as f:\n",
    "                data = json.load(f)\n",
    "                try:\n",
    "                    for L in data['data']['pincodes']:\n",
    "                        Name = L['entityName'] \n",
    "                        Counts = L['metric']['count']\n",
    "                        Amount = L['metric']['amount']\n",
    "                        top_trans['State'].append(i)\n",
    "                        top_trans['Year'].append(j)\n",
    "                        top_trans['Quarter'].append(int(k.strip('.json')))\n",
    "                        top_trans['Pincode'].append(Name)\n",
    "                        top_trans['Count'].append(Counts)\n",
    "                        top_trans['Amount'].append(Counts)\n",
    "                except:\n",
    "                    pass\n",
    "                    \n",
    "top_trans_dataframe = pd.DataFrame(top_trans)"
   ]
  },
  {
   "cell_type": "code",
   "execution_count": 98,
   "id": "ac77c8b9",
   "metadata": {},
   "outputs": [],
   "source": [
    "top_trans_dataframe.to_csv('top_trans_dataframe.csv',index=False)"
   ]
  },
  {
   "cell_type": "markdown",
   "id": "0ed8e7e7",
   "metadata": {},
   "source": [
    "# To get the top users details and saving into a CSV"
   ]
  },
  {
   "cell_type": "code",
   "execution_count": 30,
   "id": "3b4473a0",
   "metadata": {},
   "outputs": [],
   "source": [
    "top_user={'State':[],'Year':[],'Quarter':[],'Pincode':[],'Registered_user':[]}\n",
    "path=\"C:/Users/shakt/OneDrive/Desktop/pulse/data/top/user/country/india/state\"\n",
    "agg_user=os.listdir(path)\n",
    "\n",
    "\n",
    "for i in agg_user:\n",
    "    state_i = os.path.join(path, i)\n",
    "    for j in os.listdir(state_i):\n",
    "        year_j = os.path.join(state_i, j)\n",
    "        for k in os.listdir(year_j):\n",
    "            quat_k = os.path.join(year_j, k)\n",
    "            with open(quat_k) as f:\n",
    "                data = json.load(f)\n",
    "                try:\n",
    "                    for L in data['data']['pincodes']:\n",
    "                        pincode = L['name'] \n",
    "                        Counts = L['registeredUsers']\n",
    "                        top_user['State'].append(i)\n",
    "                        top_user['Year'].append(j)\n",
    "                        top_user['Quarter'].append(int(k.strip('.json')))\n",
    "                        top_user['Pincode'].append(pincode)\n",
    "                        top_user['Registered_user'].append(Counts)\n",
    "                      \n",
    "                except:\n",
    "                    pass\n",
    "                    \n",
    "top_user_dataframe = pd.DataFrame(top_user)"
   ]
  },
  {
   "cell_type": "code",
   "execution_count": 102,
   "id": "bc371568",
   "metadata": {},
   "outputs": [],
   "source": [
    "top_user_dataframe.to_csv('top_user_dataframe.csv',index=False)"
   ]
  },
  {
   "cell_type": "markdown",
   "id": "143ca27e",
   "metadata": {},
   "source": [
    "# python & MySQL connectivity "
   ]
  },
  {
   "cell_type": "code",
   "execution_count": 9,
   "id": "d7f5f2af",
   "metadata": {},
   "outputs": [
    {
     "name": "stdout",
     "output_type": "stream",
     "text": [
      "Requirement already satisfied: sqlalchemy in c:\\users\\shakt\\anaconda3\\lib\\site-packages (1.4.39)\n",
      "Requirement already satisfied: greenlet!=0.4.17 in c:\\users\\shakt\\anaconda3\\lib\\site-packages (from sqlalchemy) (1.1.1)\n",
      "Note: you may need to restart the kernel to use updated packages.\n"
     ]
    }
   ],
   "source": [
    "pip install sqlalchemy\n"
   ]
  },
  {
   "cell_type": "code",
   "execution_count": 10,
   "id": "620cf9a6",
   "metadata": {},
   "outputs": [
    {
     "name": "stdout",
     "output_type": "stream",
     "text": [
      "Collecting pymysql\n",
      "  Downloading PyMySQL-1.0.2-py3-none-any.whl (43 kB)\n",
      "     -------------------------------------- 43.8/43.8 kB 238.2 kB/s eta 0:00:00\n",
      "Installing collected packages: pymysql\n",
      "Successfully installed pymysql-1.0.2\n",
      "Note: you may need to restart the kernel to use updated packages.\n"
     ]
    }
   ],
   "source": [
    "pip install pymysql"
   ]
  },
  {
   "cell_type": "code",
   "execution_count": 2,
   "id": "315bafe2",
   "metadata": {},
   "outputs": [],
   "source": [
    "from sqlalchemy import create_engine\n",
    "from sqlalchemy import text\n",
    "import pandas as pd"
   ]
  },
  {
   "cell_type": "code",
   "execution_count": 3,
   "id": "9112c27f",
   "metadata": {},
   "outputs": [],
   "source": [
    "host='localhost'\n",
    "user='root'\n",
    "password='365616'\n",
    "port=3306\n",
    "database='phonepay'"
   ]
  },
  {
   "cell_type": "code",
   "execution_count": 4,
   "id": "8049d655",
   "metadata": {},
   "outputs": [],
   "source": [
    "engine = create_engine(f'mysql+pymysql://{user}:{password}@{host}:{port}/{database}')"
   ]
  },
  {
   "cell_type": "code",
   "execution_count": 5,
   "id": "38a2adc9",
   "metadata": {},
   "outputs": [],
   "source": [
    "connection=engine.connect()"
   ]
  },
  {
   "cell_type": "markdown",
   "id": "3499d323",
   "metadata": {},
   "source": [
    "# creating tables and loading data into tables through python script"
   ]
  },
  {
   "cell_type": "code",
   "execution_count": 8,
   "id": "60943876",
   "metadata": {},
   "outputs": [
    {
     "data": {
      "text/plain": [
       "3594"
      ]
     },
     "execution_count": 8,
     "metadata": {},
     "output_type": "execute_result"
    }
   ],
   "source": [
    "create_table_sql = \"\"\"\n",
    "    CREATE TABLE `aggregated_transaction` (\n",
    "        `serial_no` INT NOT NULL AUTO_INCREMENT PRIMARY KEY,\n",
    "        `State` VARCHAR(255) NOT NULL,\n",
    "        `Year` INT NOT NULL,\n",
    "        `Quarter` INT NOT NULL,\n",
    "        `Transaction_type` VARCHAR(255) NOT NULL,\n",
    "        `Transaction_count` INT NOT NULL,\n",
    "        `Transaction_amount` FLOAT NOT NULL\n",
    "    );\n",
    "\"\"\"\n",
    "\n",
    "connection.execute(text(create_table_sql))\n",
    "df_agg_trans = pd.read_csv(\"C:/Users/shakt/OneDrive/Desktop/Phonepay/agg_trans_dataframe.csv\")\n",
    "\n",
    "df_agg_trans.to_sql(name='aggregated_transaction', con=engine, if_exists='replace', index=False)\n"
   ]
  },
  {
   "cell_type": "code",
   "execution_count": 19,
   "id": "6c6d160c",
   "metadata": {},
   "outputs": [
    {
     "data": {
      "text/plain": [
       "6732"
      ]
     },
     "execution_count": 19,
     "metadata": {},
     "output_type": "execute_result"
    }
   ],
   "source": [
    "create_table_sql = \"\"\"\n",
    "    CREATE TABLE `aggregated_users` (\n",
    "        `State` VARCHAR(255) NOT NULL,\n",
    "        `Year` INT NOT NULL,\n",
    "        `Quarter` INT NOT NULL,\n",
    "        `Device_Brands` VARCHAR(255) NOT NULL,\n",
    "        `Counts` INT NOT NULL,\n",
    "        `Percentage` FLOAT NOT NULL\n",
    "    );\n",
    "\"\"\"\n",
    "connection.execute(text(create_table_sql))\n",
    "df_agg_users=pd.read_csv(\"C:/Users/shakt/OneDrive/Desktop/Phonepay/agg_user_dataframe.csv\")\n",
    "df_agg_users.to_sql(name='aggregated_users',con=engine,if_exists='replace',index=False)"
   ]
  },
  {
   "cell_type": "code",
   "execution_count": 23,
   "id": "f8406976",
   "metadata": {},
   "outputs": [
    {
     "data": {
      "text/plain": [
       "14636"
      ]
     },
     "execution_count": 23,
     "metadata": {},
     "output_type": "execute_result"
    }
   ],
   "source": [
    "create_table_sql = \"\"\"CREATE TABLE `map_transactions` (\n",
    "    `State` VARCHAR(255) NOT NULL,\n",
    "    `Year` INT NOT NULL,\n",
    "    `Quarter` INT NOT NULL,\n",
    "    `District` VARCHAR(255) NOT NULL,\n",
    "    `Counts` INT NOT NULL,\n",
    "    `Amount` FLOAT NOT NULL\n",
    ");\n",
    "\"\"\"\n",
    "connection.execute(text(create_table_sql))\n",
    "df_map_trans=pd.read_csv(\"C:/Users/shakt/OneDrive/Desktop/Phonepay/map_trans_dataframe.csv\")\n",
    "df_map_trans.to_sql(name='map_transactions',con=engine,if_exists='replace',index=False)"
   ]
  },
  {
   "cell_type": "code",
   "execution_count": 26,
   "id": "1a0d7952",
   "metadata": {},
   "outputs": [
    {
     "data": {
      "text/plain": [
       "14640"
      ]
     },
     "execution_count": 26,
     "metadata": {},
     "output_type": "execute_result"
    }
   ],
   "source": [
    "create_table_sql = \"\"\"\n",
    "    CREATE TABLE `map_users` (\n",
    "        `State` VARCHAR(255) NOT NULL,\n",
    "        `Year` INT NOT NULL,\n",
    "        `Quarter` INT NOT NULL,\n",
    "        `District` VARCHAR(255) NOT NULL,\n",
    "        `RegisteredUsers` INT NOT NULL\n",
    "     \n",
    "    );\n",
    "\"\"\"\n",
    "connection.execute(text(create_table_sql))\n",
    "df_map_users=pd.read_csv(\"C:/Users/shakt/OneDrive/Desktop/Phonepay/map_user_dataframe.csv\")\n",
    "df_map_users.to_sql(name='map_users',con=engine,if_exists='replace',index=False)"
   ]
  },
  {
   "cell_type": "code",
   "execution_count": 29,
   "id": "4b961d80",
   "metadata": {},
   "outputs": [
    {
     "data": {
      "text/plain": [
       "7139"
      ]
     },
     "execution_count": 29,
     "metadata": {},
     "output_type": "execute_result"
    }
   ],
   "source": [
    "create_table_sql = \"\"\"\n",
    "    CREATE TABLE `top_transactions` (\n",
    "        `State` VARCHAR(255) NOT NULL,\n",
    "        `Year` INT NOT NULL,\n",
    "        `Quarter` INT NOT NULL,\n",
    "        `Pincode` INT NOT NULL,\n",
    "        `Count` INT NOT NULL,\n",
    "        `Amount` FLOAT NOT NULL\n",
    "    );\n",
    "\"\"\"\n",
    "\n",
    "connection.execute(text(create_table_sql))\n",
    "df_top_trans=pd.read_csv(\"C:/Users/shakt/OneDrive/Desktop/Phonepay/top_trans_dataframe.csv\")\n",
    "df_top_trans.to_sql(name='top_transactions',con=engine,if_exists='replace',index=False)"
   ]
  },
  {
   "cell_type": "code",
   "execution_count": 32,
   "id": "8dbfa5f3",
   "metadata": {},
   "outputs": [
    {
     "data": {
      "text/plain": [
       "7140"
      ]
     },
     "execution_count": 32,
     "metadata": {},
     "output_type": "execute_result"
    }
   ],
   "source": [
    "create_table_sql = \"\"\"\n",
    "    CREATE TABLE `top_users` (\n",
    "        `id` INT NOT NULL AUTO_INCREMENT PRIMARY KEY,\n",
    "        `State` VARCHAR(255) NOT NULL,\n",
    "        `Year` INT NOT NULL,\n",
    "        `Quarter` INT NOT NULL,\n",
    "        `Pincode` INT NOT NULL,\n",
    "        `Registered_user` INT NOT NULL\n",
    "    );\n",
    "\"\"\"\n",
    "connection.execute(text(create_table_sql))\n",
    "df_top_users=pd.read_csv(\"C:/Users/shakt/OneDrive/Desktop/Phonepay/top_user_dataframe.csv\")\n",
    "df_top_users.to_sql(name='top_users',con=engine,if_exists='replace',index=False)"
   ]
  },
  {
   "cell_type": "code",
   "execution_count": null,
   "id": "a13edea9",
   "metadata": {},
   "outputs": [],
   "source": []
  }
 ],
 "metadata": {
  "kernelspec": {
   "display_name": "Python 3 (ipykernel)",
   "language": "python",
   "name": "python3"
  },
  "language_info": {
   "codemirror_mode": {
    "name": "ipython",
    "version": 3
   },
   "file_extension": ".py",
   "mimetype": "text/x-python",
   "name": "python",
   "nbconvert_exporter": "python",
   "pygments_lexer": "ipython3",
   "version": "3.9.16"
  }
 },
 "nbformat": 4,
 "nbformat_minor": 5
}
